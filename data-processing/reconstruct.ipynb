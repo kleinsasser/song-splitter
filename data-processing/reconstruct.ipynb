{
 "metadata": {
  "language_info": {
   "codemirror_mode": {
    "name": "ipython",
    "version": 3
   },
   "file_extension": ".py",
   "mimetype": "text/x-python",
   "name": "python",
   "nbconvert_exporter": "python",
   "pygments_lexer": "ipython3",
   "version": 3
  },
  "orig_nbformat": 2
 },
 "nbformat": 4,
 "nbformat_minor": 2,
 "cells": [
  {
   "cell_type": "code",
   "execution_count": null,
   "metadata": {},
   "outputs": [],
   "source": [
    "# TODO: Load Model\n",
    "\n",
    "X_ = np.load('./data.nosync/spec/unet_inputs_spec.npy')\n",
    "X_ = np.expand_dims(X, -1).astype('float32')\n",
    "\n",
    "Y_ = np.load('./data.nosync/spec/unet_targets_spec.npy')\n",
    "Y_ = np.expand_dims(Y, -1).astype('float32')\n",
    "\n",
    "V = np.load('./data.nosync/spec/unet_inputs_phase.npy')\n",
    "W = np.load('./data.nosync/spec/unet_targets_phase.npy')"
   ]
  },
  {
   "cell_type": "code",
   "execution_count": null,
   "metadata": {},
   "outputs": [],
   "source": [
    "def show_spectrograms(S_input, S_target, S_pred):\n",
    "    \n",
    "    D1 = librosa.amplitude_to_db(S_input)\n",
    "    D2 = librosa.amplitude_to_db(S_target)\n",
    "    D3 = librosa.amplitude_to_db(S_pred)\n",
    "    \n",
    "    plt.figure()\n",
    "    ax1 = plt.subplot(3,1,1)\n",
    "    librosa.display.specshow(D1)\n",
    "    plt.title('Input')\n",
    "    plt.colorbar(format='%+2.0f dB')\n",
    "\n",
    "    ax2 = plt.subplot(3,1,2)\n",
    "    librosa.display.specshow(D2)\n",
    "    plt.title('Target')\n",
    "    plt.colorbar(format='%+2.0f dB')\n",
    "    \n",
    "    ax3 = plt.subplot(3,1,3)\n",
    "    librosa.display.specshow(D3)\n",
    "    plt.title('Prediction')\n",
    "    plt.colorbar(format='%+2.0f dB')\n",
    "\n",
    "    plt.tight_layout()\n",
    "    plt.show()\n",
    "\n",
    "def show_spectrogram(S, title):\n",
    "    \n",
    "    D1 = librosa.amplitude_to_db(S)\n",
    "    \n",
    "    plt.figure()\n",
    "    ax1 = plt.subplot(1,1,1)\n",
    "    librosa.display.specshow(D1)\n",
    "    plt.title(title)\n",
    "    plt.colorbar(format='%+2.0f dB')\n",
    "\n",
    "    plt.tight_layout()\n",
    "    plt.show()\n",
    "\n",
    "def spectrogram_to_wavfile(filename, S):\n",
    "    win_length = 1024\n",
    "    n_fft = 1024\n",
    "    hop_length = 768\n",
    "    target_sr = 8192\n",
    "\n",
    "    S = np.vstack((S, np.zeros((1, 128)) ))\n",
    "\n",
    "    print('Inverting spectrogram...')\n",
    "    y = librosa.istft(S, hop_length=hop_length, win_length = win_length)\n",
    "    print('Creating {}...'.format(filename))\n",
    "    write(filename, target_sr, y)\n",
    "    print('Done')"
   ]
  },
  {
   "cell_type": "code",
   "execution_count": null,
   "metadata": {},
   "outputs": [],
   "source": [
    "# Reconstruct Particular Example\n",
    "ix = 124\n",
    "\n",
    "S_in = np.squeeze(X_[ix]) * V[ix]\n",
    "show_spectrogram(S_in, 'Input')\n",
    "\n",
    "S = np.squeeze(Y_[ix]) * W[ix]\n",
    "show_spectrogram(S, 'Target')\n",
    "\n",
    "S_pred = unet.predict(X_[ix:ix+1])\n",
    "S_pred = np.squeeze(S_pred) * V[ix]\n",
    "show_spectrogram(S_pred, 'Prediction')"
   ]
  },
  {
   "cell_type": "code",
   "execution_count": null,
   "metadata": {},
   "outputs": [],
   "source": [
    "# Save .wav files\n",
    "spectrogram_to_wavfile(f'S_in_{ix}.wav', S_in)\n",
    "spectrogram_to_wavfile(f'S_targ_{ix}.wav', S)\n",
    "spectrogram_to_wavfile(f'S_pred_{ix}.wav', S_pred)"
   ]
  }
 ]
}