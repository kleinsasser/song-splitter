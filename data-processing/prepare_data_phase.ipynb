{
 "metadata": {
  "language_info": {
   "codemirror_mode": {
    "name": "ipython",
    "version": 3
   },
   "file_extension": ".py",
   "mimetype": "text/x-python",
   "name": "python",
   "nbconvert_exporter": "python",
   "pygments_lexer": "ipython3",
   "version": "3.7.5-final"
  },
  "orig_nbformat": 2,
  "kernelspec": {
   "name": "python38164bit2e2f8e18c504460a9c52cfc0e07858f0",
   "display_name": "Python 3.8.1 64-bit"
  }
 },
 "nbformat": 4,
 "nbformat_minor": 2,
 "cells": [
  {
   "cell_type": "code",
   "execution_count": 1,
   "metadata": {},
   "outputs": [],
   "source": [
    "import os\n",
    "import numpy as np\n",
    "from time import time\n",
    "\n",
    "import librosa\n",
    "import librosa.display\n",
    "from scipy.io.wavfile import write\n",
    "\n",
    "import matplotlib.pyplot as plt\n",
    "\n",
    "np.set_printoptions(precision=2)\n",
    "\n",
    "# stft specs\n",
    "win_length = 1024\n",
    "n_fft = 1024\n",
    "hop_length = 768\n",
    "target_sr = 8192\n"
   ]
  },
  {
   "cell_type": "code",
   "execution_count": 2,
   "metadata": {},
   "outputs": [
    {
     "output_type": "stream",
     "name": "stdout",
     "text": [
      "(1963, 98303) (1963, 98303)\n"
     ]
    }
   ],
   "source": [
    "X = np.load('../data.nosync/raw/unet_inputs_raw.npy')\n",
    "Y = np.load('../data.nosync/raw/unet_targets_raw.npy')\n",
    "\n",
    "print(X.shape, Y.shape)"
   ]
  },
  {
   "cell_type": "code",
   "execution_count": 4,
   "metadata": {},
   "outputs": [
    {
     "output_type": "stream",
     "name": "stdout",
     "text": [
      "(1963, 512, 128) (1963, 512, 128)\n"
     ]
    }
   ],
   "source": [
    "inputs = []\n",
    "targets = []\n",
    "\n",
    "for i in range(X.shape[0]):\n",
    "\n",
    "    _, X_phase = librosa.magphase(librosa.stft(X[i], win_length=win_length, n_fft=n_fft, hop_length=hop_length))\n",
    "    _, Y_phase = librosa.magphase(librosa.stft(Y[i], win_length=win_length, n_fft=n_fft, hop_length=hop_length))\n",
    "\n",
    "    inputs.append(X_phase[:512])\n",
    "    targets.append(Y_phase[:512])\n",
    "\n",
    "inputs = np.array(inputs) \n",
    "targets = np.array(targets)\n",
    "\n",
    "print(inputs.shape, targets.shape)"
   ]
  },
  {
   "cell_type": "code",
   "execution_count": 6,
   "metadata": {},
   "outputs": [],
   "source": [
    "np.save('unet_inputs_phase.npy', inputs)\n",
    "np.save('unet_targets_phase.npy', targets)"
   ]
  },
  {
   "cell_type": "code",
   "execution_count": null,
   "metadata": {},
   "outputs": [],
   "source": []
  }
 ]
}