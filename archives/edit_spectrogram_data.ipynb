{
 "cells": [
  {
   "cell_type": "code",
   "execution_count": 24,
   "metadata": {},
   "outputs": [
    {
     "output_type": "stream",
     "name": "stdout",
     "text": "(4632, 128, 242)\n(4632, 128, 242)\n"
    }
   ],
   "source": [
    "import numpy as np\n",
    "np.set_printoptions(precision = 1, linewidth=150)\n",
    "\n",
    "X = np.load('musdb_spec_inputs.npy')\n",
    "Y = np.load('musdb_spec_targets.npy')\n",
    "\n",
    "X = np.pad(X, [(0, 0), (0, 0), (13, 13)], constant_values=[(0, 0), (0, 0), (-60, -60)])\n",
    "Y = np.pad(Y, [(0, 0), (0, 0), (13, 13)], constant_values=[(0, 0), (0, 0), (-60, -60)])\n",
    "\n",
    "print(Y.shape)\n",
    "print(X.shape)"
   ]
  },
  {
   "cell_type": "code",
   "execution_count": 31,
   "metadata": {
    "tags": [
     "outputPrepend"
    ]
   },
   "outputs": [],
   "source": [
    "s = 27\n",
    "split = 13 # \n",
    "samples_per_snippet = 8\n",
    "\n",
    "X_new = []\n",
    "Y_new = []\n",
    "Z = []\n",
    "for i in range(X.shape[0]):\n",
    "    x = X[i]\n",
    "    y = Y[i]\n",
    "    for j in range(13, 228):\n",
    "        X_new.append(x[:, j - split: j + split])\n",
    "        y_new = y[:, j - split: j + split]\n",
    "        Y_new.append(y_new)\n",
    "        Z.append((y_new[:, 14] > -15).astype(int))"
   ]
  },
  {
   "cell_type": "code",
   "execution_count": 32,
   "metadata": {},
   "outputs": [
    {
     "output_type": "stream",
     "name": "stdout",
     "text": "(995880, 128, 26)\n(995880, 128, 26)\n(995880, 128)\n"
    }
   ],
   "source": [
    "X_new = np.array(X_new)\n",
    "Y_new = np.array(Y_new)\n",
    "Z = np.array(Z)\n",
    "\n",
    "print(X_new.shape)\n",
    "print(Y_new.shape)\n",
    "print(Z.shape)"
   ]
  },
  {
   "cell_type": "code",
   "execution_count": 33,
   "metadata": {},
   "outputs": [],
   "source": [
    "np.save('musdb_spec_128x26_inputs.npy', X_new)\n",
    "np.save('musdb_spec_128x26_targets.npy', Y_new)\n",
    "np.save('musdb_spec_128x26_bitmask.npy', Z)"
   ]
  }
 ],
 "metadata": {
  "language_info": {
   "codemirror_mode": {
    "name": "ipython",
    "version": 3
   },
   "file_extension": ".py",
   "mimetype": "text/x-python",
   "name": "python",
   "nbconvert_exporter": "python",
   "pygments_lexer": "ipython3",
   "version": "3.7.5-final"
  },
  "orig_nbformat": 2,
  "kernelspec": {
   "name": "python38164bit2e2f8e18c504460a9c52cfc0e07858f0",
   "display_name": "Python 3.8.1 64-bit"
  }
 },
 "nbformat": 4,
 "nbformat_minor": 2
}